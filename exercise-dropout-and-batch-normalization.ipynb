{
 "cells": [
  {
   "cell_type": "markdown",
   "id": "8762d22c",
   "metadata": {
    "papermill": {
     "duration": 0.008088,
     "end_time": "2023-01-15T15:20:20.213673",
     "exception": false,
     "start_time": "2023-01-15T15:20:20.205585",
     "status": "completed"
    },
    "tags": []
   },
   "source": [
    "# Introduction #\n",
    "\n",
    "In this exercise, you'll add dropout to the *Spotify* model from Exercise 4 and see how batch normalization can let you successfully train models on difficult datasets.\n",
    "\n",
    "Run the next cell to get started!"
   ]
  },
  {
   "cell_type": "code",
   "execution_count": 1,
   "id": "b49fed39",
   "metadata": {
    "execution": {
     "iopub.execute_input": "2023-01-15T15:20:20.225868Z",
     "iopub.status.busy": "2023-01-15T15:20:20.225287Z",
     "iopub.status.idle": "2023-01-15T15:20:20.258171Z",
     "shell.execute_reply": "2023-01-15T15:20:20.257223Z"
    },
    "papermill": {
     "duration": 0.041896,
     "end_time": "2023-01-15T15:20:20.260395",
     "exception": false,
     "start_time": "2023-01-15T15:20:20.218499",
     "status": "completed"
    },
    "tags": []
   },
   "outputs": [],
   "source": [
    "# Setup plotting\n",
    "import matplotlib.pyplot as plt\n",
    "plt.style.use('seaborn-whitegrid')\n",
    "# Set Matplotlib defaults\n",
    "plt.rc('figure', autolayout=True)\n",
    "plt.rc('axes', labelweight='bold', labelsize='large',\n",
    "       titleweight='bold', titlesize=18, titlepad=10)\n",
    "plt.rc('animation', html='html5')\n",
    "\n",
    "# Setup feedback system\n",
    "from learntools.core import binder\n",
    "binder.bind(globals())\n",
    "from learntools.deep_learning_intro.ex5 import *"
   ]
  },
  {
   "cell_type": "markdown",
   "id": "8d86c5d9",
   "metadata": {
    "papermill": {
     "duration": 0.003886,
     "end_time": "2023-01-15T15:20:20.268674",
     "exception": false,
     "start_time": "2023-01-15T15:20:20.264788",
     "status": "completed"
    },
    "tags": []
   },
   "source": [
    "First load the *Spotify* dataset."
   ]
  },
  {
   "cell_type": "code",
   "execution_count": 2,
   "id": "997da75b",
   "metadata": {
    "execution": {
     "iopub.execute_input": "2023-01-15T15:20:20.278895Z",
     "iopub.status.busy": "2023-01-15T15:20:20.278087Z",
     "iopub.status.idle": "2023-01-15T15:20:26.671240Z",
     "shell.execute_reply": "2023-01-15T15:20:26.669893Z"
    },
    "papermill": {
     "duration": 6.401104,
     "end_time": "2023-01-15T15:20:26.673881",
     "exception": false,
     "start_time": "2023-01-15T15:20:20.272777",
     "status": "completed"
    },
    "tags": []
   },
   "outputs": [
    {
     "name": "stdout",
     "output_type": "stream",
     "text": [
      "Input shape: [18]\n"
     ]
    },
    {
     "data": {
      "text/plain": [
       "array([[ 0.50279346,  0.65817865,  1.55454237, ...,  0.        ,\n",
       "         0.        ,  0.        ],\n",
       "       [ 0.15248504,  1.29848241, -1.21000933, ...,  0.        ,\n",
       "         0.        ,  0.        ],\n",
       "       [ 0.44784312,  1.29296255,  0.44872169, ...,  0.        ,\n",
       "         0.        ,  0.        ],\n",
       "       ...,\n",
       "       [-0.85035867,  0.69129781,  0.17226652, ...,  0.        ,\n",
       "         0.        ,  0.        ],\n",
       "       [-0.18408579,  1.06112843, -0.93355416, ...,  0.        ,\n",
       "         0.        ,  0.        ],\n",
       "       [-0.34206802,  1.03904899, -0.10418865, ...,  0.        ,\n",
       "         0.        ,  0.        ]])"
      ]
     },
     "execution_count": 2,
     "metadata": {},
     "output_type": "execute_result"
    }
   ],
   "source": [
    "import pandas as pd\n",
    "from sklearn.preprocessing import StandardScaler, OneHotEncoder\n",
    "from sklearn.compose import make_column_transformer\n",
    "from sklearn.model_selection import GroupShuffleSplit\n",
    "\n",
    "from tensorflow import keras\n",
    "from tensorflow.keras import layers\n",
    "from tensorflow.keras import callbacks\n",
    "\n",
    "spotify = pd.read_csv('../input/dl-course-data/spotify.csv')\n",
    "\n",
    "X = spotify.copy().dropna()\n",
    "y = X.pop('track_popularity')\n",
    "artists = X['track_artist']\n",
    "\n",
    "features_num = ['danceability', 'energy', 'key', 'loudness', 'mode',\n",
    "                'speechiness', 'acousticness', 'instrumentalness',\n",
    "                'liveness', 'valence', 'tempo', 'duration_ms']\n",
    "features_cat = ['playlist_genre']\n",
    "preprocessor = make_column_transformer(\n",
    "    (StandardScaler(), features_num),\n",
    "    (OneHotEncoder(), features_cat),\n",
    ")\n",
    "\n",
    "def group_split(X, y, group, train_size=0.75):\n",
    "    splitter = GroupShuffleSplit(train_size=train_size)\n",
    "    train, test = next(splitter.split(X, y, groups=group))\n",
    "    return (X.iloc[train], X.iloc[test], y.iloc[train], y.iloc[test])\n",
    "\n",
    "X_train, X_valid, y_train, y_valid = group_split(X, y, artists)\n",
    "\n",
    "X_train = preprocessor.fit_transform(X_train)\n",
    "X_valid = preprocessor.transform(X_valid)\n",
    "y_train = y_train / 100\n",
    "y_valid = y_valid / 100\n",
    "\n",
    "input_shape = [X_train.shape[1]]\n",
    "print(\"Input shape: {}\".format(input_shape))\n",
    "X_train"
   ]
  },
  {
   "cell_type": "markdown",
   "id": "b796dcb2",
   "metadata": {
    "papermill": {
     "duration": 0.004472,
     "end_time": "2023-01-15T15:20:26.683411",
     "exception": false,
     "start_time": "2023-01-15T15:20:26.678939",
     "status": "completed"
    },
    "tags": []
   },
   "source": [
    "# 1) Add Dropout to Spotify Model\n",
    "\n",
    "Here is the last model from Exercise 4. Add two dropout layers, one after the `Dense` layer with 128 units, and one after the `Dense` layer with 64 units. Set the dropout rate on both to `0.3`."
   ]
  },
  {
   "cell_type": "code",
   "execution_count": 3,
   "id": "f15970b4",
   "metadata": {
    "execution": {
     "iopub.execute_input": "2023-01-15T15:20:26.693976Z",
     "iopub.status.busy": "2023-01-15T15:20:26.693158Z",
     "iopub.status.idle": "2023-01-15T15:20:29.523877Z",
     "shell.execute_reply": "2023-01-15T15:20:29.522868Z"
    },
    "lines_to_next_cell": 2,
    "papermill": {
     "duration": 2.838326,
     "end_time": "2023-01-15T15:20:29.525984",
     "exception": false,
     "start_time": "2023-01-15T15:20:26.687658",
     "status": "completed"
    },
    "tags": []
   },
   "outputs": [
    {
     "name": "stderr",
     "output_type": "stream",
     "text": [
      "2023-01-15 15:20:26.791574: I tensorflow/stream_executor/cuda/cuda_gpu_executor.cc:937] successful NUMA node read from SysFS had negative value (-1), but there must be at least one NUMA node, so returning NUMA node zero\n",
      "2023-01-15 15:20:26.893757: I tensorflow/stream_executor/cuda/cuda_gpu_executor.cc:937] successful NUMA node read from SysFS had negative value (-1), but there must be at least one NUMA node, so returning NUMA node zero\n",
      "2023-01-15 15:20:26.894893: I tensorflow/stream_executor/cuda/cuda_gpu_executor.cc:937] successful NUMA node read from SysFS had negative value (-1), but there must be at least one NUMA node, so returning NUMA node zero\n",
      "2023-01-15 15:20:26.897316: I tensorflow/core/platform/cpu_feature_guard.cc:142] This TensorFlow binary is optimized with oneAPI Deep Neural Network Library (oneDNN) to use the following CPU instructions in performance-critical operations:  AVX2 AVX512F FMA\n",
      "To enable them in other operations, rebuild TensorFlow with the appropriate compiler flags.\n",
      "2023-01-15 15:20:26.897700: I tensorflow/stream_executor/cuda/cuda_gpu_executor.cc:937] successful NUMA node read from SysFS had negative value (-1), but there must be at least one NUMA node, so returning NUMA node zero\n",
      "2023-01-15 15:20:26.898692: I tensorflow/stream_executor/cuda/cuda_gpu_executor.cc:937] successful NUMA node read from SysFS had negative value (-1), but there must be at least one NUMA node, so returning NUMA node zero\n",
      "2023-01-15 15:20:26.899645: I tensorflow/stream_executor/cuda/cuda_gpu_executor.cc:937] successful NUMA node read from SysFS had negative value (-1), but there must be at least one NUMA node, so returning NUMA node zero\n",
      "2023-01-15 15:20:29.098349: I tensorflow/stream_executor/cuda/cuda_gpu_executor.cc:937] successful NUMA node read from SysFS had negative value (-1), but there must be at least one NUMA node, so returning NUMA node zero\n",
      "2023-01-15 15:20:29.099288: I tensorflow/stream_executor/cuda/cuda_gpu_executor.cc:937] successful NUMA node read from SysFS had negative value (-1), but there must be at least one NUMA node, so returning NUMA node zero\n",
      "2023-01-15 15:20:29.100073: I tensorflow/stream_executor/cuda/cuda_gpu_executor.cc:937] successful NUMA node read from SysFS had negative value (-1), but there must be at least one NUMA node, so returning NUMA node zero\n",
      "2023-01-15 15:20:29.100723: I tensorflow/core/common_runtime/gpu/gpu_device.cc:1510] Created device /job:localhost/replica:0/task:0/device:GPU:0 with 15401 MB memory:  -> device: 0, name: Tesla P100-PCIE-16GB, pci bus id: 0000:00:04.0, compute capability: 6.0\n"
     ]
    },
    {
     "data": {
      "application/javascript": "parent.postMessage({\"jupyterEvent\": \"custom.exercise_interaction\", \"data\": {\"outcomeType\": 1, \"valueTowardsCompletion\": 0.25, \"interactionType\": 1, \"questionType\": 2, \"questionId\": \"1_Q1\", \"learnToolsVersion\": \"0.3.4\", \"failureMessage\": \"\", \"exceptionClass\": \"\", \"trace\": \"\"}}, \"*\")",
      "text/plain": [
       "<IPython.core.display.Javascript object>"
      ]
     },
     "metadata": {},
     "output_type": "display_data"
    },
    {
     "data": {
      "text/markdown": [
       "<span style=\"color:#33cc33\">Correct</span>"
      ],
      "text/plain": [
       "Correct"
      ]
     },
     "metadata": {},
     "output_type": "display_data"
    }
   ],
   "source": [
    "# YOUR CODE HERE: Add two 30% dropout layers, one after 128 and one after 64\n",
    "model = keras.Sequential([\n",
    "    layers.Dense(128, activation='relu', input_shape=input_shape),\n",
    "    layers.Dropout(rate=0.3),\n",
    "    layers.Dense(64, activation='relu'),\n",
    "    layers.Dropout(rate=0.3),\n",
    "    layers.Dense(1)\n",
    "    \n",
    "])\n",
    "\n",
    "# Check your answer\n",
    "q_1.check()"
   ]
  },
  {
   "cell_type": "code",
   "execution_count": 4,
   "id": "a663b643",
   "metadata": {
    "execution": {
     "iopub.execute_input": "2023-01-15T15:20:29.537246Z",
     "iopub.status.busy": "2023-01-15T15:20:29.536947Z",
     "iopub.status.idle": "2023-01-15T15:20:29.542124Z",
     "shell.execute_reply": "2023-01-15T15:20:29.541291Z"
    },
    "papermill": {
     "duration": 0.013226,
     "end_time": "2023-01-15T15:20:29.544222",
     "exception": false,
     "start_time": "2023-01-15T15:20:29.530996",
     "status": "completed"
    },
    "tags": []
   },
   "outputs": [],
   "source": [
    "# Lines below will give you a hint or solution code\n",
    "#q_1.hint()\n",
    "#q_1.solution()"
   ]
  },
  {
   "cell_type": "markdown",
   "id": "e0602aec",
   "metadata": {
    "papermill": {
     "duration": 0.004532,
     "end_time": "2023-01-15T15:20:29.553494",
     "exception": false,
     "start_time": "2023-01-15T15:20:29.548962",
     "status": "completed"
    },
    "tags": []
   },
   "source": [
    "Now run this next cell to train the model see the effect of adding dropout."
   ]
  },
  {
   "cell_type": "code",
   "execution_count": 5,
   "id": "8ae2196b",
   "metadata": {
    "execution": {
     "iopub.execute_input": "2023-01-15T15:20:29.564132Z",
     "iopub.status.busy": "2023-01-15T15:20:29.563851Z",
     "iopub.status.idle": "2023-01-15T15:20:37.308522Z",
     "shell.execute_reply": "2023-01-15T15:20:37.307412Z"
    },
    "papermill": {
     "duration": 7.752494,
     "end_time": "2023-01-15T15:20:37.310682",
     "exception": false,
     "start_time": "2023-01-15T15:20:29.558188",
     "status": "completed"
    },
    "tags": []
   },
   "outputs": [
    {
     "name": "stderr",
     "output_type": "stream",
     "text": [
      "2023-01-15 15:20:29.643582: I tensorflow/compiler/mlir/mlir_graph_optimization_pass.cc:185] None of the MLIR Optimization Passes are enabled (registered 2)\n"
     ]
    },
    {
     "name": "stdout",
     "output_type": "stream",
     "text": [
      "Minimum Validation Loss: 0.1892\n"
     ]
    },
    {
     "data": {
      "image/png": "[encoded data removed]",
      "text/plain": [
       "<Figure size 432x288 with 1 Axes>"
      ]
     },
     "metadata": {},
     "output_type": "display_data"
    }
   ],
   "source": [
    "model.compile(\n",
    "    optimizer='adam',\n",
    "    loss='mae',\n",
    ")\n",
    "history = model.fit(\n",
    "    X_train, y_train,\n",
    "    validation_data=(X_valid, y_valid),\n",
    "    batch_size=512,\n",
    "    epochs=50,\n",
    "    verbose=0,\n",
    ")\n",
    "history_df = pd.DataFrame(history.history)\n",
    "history_df.loc[:, ['loss', 'val_loss']].plot()\n",
    "print(\"Minimum Validation Loss: {:0.4f}\".format(history_df['val_loss'].min()))"
   ]
  },
  {
   "cell_type": "markdown",
   "id": "e207b189",
   "metadata": {
    "papermill": {
     "duration": 0.005281,
     "end_time": "2023-01-15T15:20:37.321647",
     "exception": false,
     "start_time": "2023-01-15T15:20:37.316366",
     "status": "completed"
    },
    "tags": []
   },
   "source": [
    "# 2) Evaluate Dropout\n",
    "\n",
    "Recall from Exercise 4 that this model tended to overfit the data around epoch 5. Did adding dropout seem to help prevent overfitting this time?"
   ]
  },
  {
   "cell_type": "code",
   "execution_count": 6,
   "id": "d751bdb9",
   "metadata": {
    "execution": {
     "iopub.execute_input": "2023-01-15T15:20:37.333996Z",
     "iopub.status.busy": "2023-01-15T15:20:37.333349Z",
     "iopub.status.idle": "2023-01-15T15:20:37.341744Z",
     "shell.execute_reply": "2023-01-15T15:20:37.340770Z"
    },
    "papermill": {
     "duration": 0.01677,
     "end_time": "2023-01-15T15:20:37.343946",
     "exception": false,
     "start_time": "2023-01-15T15:20:37.327176",
     "status": "completed"
    },
    "tags": []
   },
   "outputs": [
    {
     "data": {
      "application/javascript": "parent.postMessage({\"jupyterEvent\": \"custom.exercise_interaction\", \"data\": {\"outcomeType\": 1, \"valueTowardsCompletion\": 0.25, \"interactionType\": 1, \"questionType\": 4, \"questionId\": \"2_Q2\", \"learnToolsVersion\": \"0.3.4\", \"failureMessage\": \"\", \"exceptionClass\": \"\", \"trace\": \"\"}}, \"*\")",
      "text/plain": [
       "<IPython.core.display.Javascript object>"
      ]
     },
     "metadata": {},
     "output_type": "display_data"
    },
    {
     "data": {
      "text/markdown": [
       "<span style=\"color:#33cc33\">Correct:</span> \n",
       "\n",
       "\n",
       "From the learning curves, you can see that the validation loss remains near a constant minimum even though the training loss continues to decrease. So we can see that adding dropout did prevent overfitting this time. Moreover, by making it harder for the network to fit spurious patterns, dropout may have encouraged the network to seek out more of the true patterns, possibly improving the validation loss some as well).\n"
      ],
      "text/plain": [
       "Correct: \n",
       "\n",
       "\n",
       "From the learning curves, you can see that the validation loss remains near a constant minimum even though the training loss continues to decrease. So we can see that adding dropout did prevent overfitting this time. Moreover, by making it harder for the network to fit spurious patterns, dropout may have encouraged the network to seek out more of the true patterns, possibly improving the validation loss some as well)."
      ]
     },
     "metadata": {},
     "output_type": "display_data"
    }
   ],
   "source": [
    "# View the solution (Run this cell to receive credit!)\n",
    "q_2.check()"
   ]
  },
  {
   "cell_type": "markdown",
   "id": "49a38bb5",
   "metadata": {
    "papermill": {
     "duration": 0.005278,
     "end_time": "2023-01-15T15:20:37.354734",
     "exception": false,
     "start_time": "2023-01-15T15:20:37.349456",
     "status": "completed"
    },
    "tags": []
   },
   "source": [
    "Now, we'll switch topics to explore how batch normalization can fix problems in training.\n",
    "\n",
    "Load the *Concrete* dataset. We won't do any standardization this time. This will make the effect of batch normalization much more apparent."
   ]
  },
  {
   "cell_type": "code",
   "execution_count": 7,
   "id": "8271e247",
   "metadata": {
    "execution": {
     "iopub.execute_input": "2023-01-15T15:20:37.367861Z",
     "iopub.status.busy": "2023-01-15T15:20:37.367585Z",
     "iopub.status.idle": "2023-01-15T15:20:37.384359Z",
     "shell.execute_reply": "2023-01-15T15:20:37.383385Z"
    },
    "papermill": {
     "duration": 0.025506,
     "end_time": "2023-01-15T15:20:37.386739",
     "exception": false,
     "start_time": "2023-01-15T15:20:37.361233",
     "status": "completed"
    },
    "tags": []
   },
   "outputs": [],
   "source": [
    "import pandas as pd\n",
    "\n",
    "concrete = pd.read_csv('../input/dl-course-data/concrete.csv')\n",
    "df = concrete.copy()\n",
    "\n",
    "df_train = df.sample(frac=0.7, random_state=0)\n",
    "df_valid = df.drop(df_train.index)\n",
    "\n",
    "X_train = df_train.drop('CompressiveStrength', axis=1)\n",
    "X_valid = df_valid.drop('CompressiveStrength', axis=1)\n",
    "y_train = df_train['CompressiveStrength']\n",
    "y_valid = df_valid['CompressiveStrength']\n",
    "\n",
    "input_shape = [X_train.shape[1]]"
   ]
  },
  {
   "cell_type": "markdown",
   "id": "b2a43b87",
   "metadata": {
    "papermill": {
     "duration": 0.00526,
     "end_time": "2023-01-15T15:20:37.397965",
     "exception": false,
     "start_time": "2023-01-15T15:20:37.392705",
     "status": "completed"
    },
    "tags": []
   },
   "source": [
    "Run the following cell to train the network on the unstandardized *Concrete* data."
   ]
  },
  {
   "cell_type": "code",
   "execution_count": 8,
   "id": "40f8cb19",
   "metadata": {
    "execution": {
     "iopub.execute_input": "2023-01-15T15:20:37.409900Z",
     "iopub.status.busy": "2023-01-15T15:20:37.409626Z",
     "iopub.status.idle": "2023-01-15T15:20:42.304671Z",
     "shell.execute_reply": "2023-01-15T15:20:42.303788Z"
    },
    "papermill": {
     "duration": 4.90323,
     "end_time": "2023-01-15T15:20:42.306689",
     "exception": false,
     "start_time": "2023-01-15T15:20:37.403459",
     "status": "completed"
    },
    "tags": []
   },
   "outputs": [
    {
     "name": "stdout",
     "output_type": "stream",
     "text": [
      "Minimum Validation Loss: nan\n"
     ]
    },
    {
     "data": {
      "image/png": "[encoded data removed]",
      "text/plain": [
       "<Figure size 432x288 with 1 Axes>"
      ]
     },
     "metadata": {},
     "output_type": "display_data"
    }
   ],
   "source": [
    "model = keras.Sequential([\n",
    "    layers.Dense(512, activation='relu', input_shape=input_shape),\n",
    "    layers.Dense(512, activation='relu'),    \n",
    "    layers.Dense(512, activation='relu'),\n",
    "    layers.Dense(1),\n",
    "])\n",
    "model.compile(\n",
    "    optimizer='sgd', # SGD is more sensitive to differences of scale\n",
    "    loss='mae',\n",
    "    metrics=['mae'],\n",
    ")\n",
    "history = model.fit(\n",
    "    X_train, y_train,\n",
    "    validation_data=(X_valid, y_valid),\n",
    "    batch_size=64,\n",
    "    epochs=100,\n",
    "    verbose=0,\n",
    ")\n",
    "\n",
    "history_df = pd.DataFrame(history.history)\n",
    "history_df.loc[0:, ['loss', 'val_loss']].plot()\n",
    "print((\"Minimum Validation Loss: {:0.4f}\").format(history_df['val_loss'].min()))"
   ]
  },
  {
   "cell_type": "markdown",
   "id": "93e17d9f",
   "metadata": {
    "papermill": {
     "duration": 0.005423,
     "end_time": "2023-01-15T15:20:42.317717",
     "exception": false,
     "start_time": "2023-01-15T15:20:42.312294",
     "status": "completed"
    },
    "tags": []
   },
   "source": [
    "Did you end up with a blank graph? Trying to train this network on this dataset will usually fail. Even when it does converge (due to a lucky weight initialization), it tends to converge to a very large number.\n",
    "\n",
    "# 3) Add Batch Normalization Layers\n",
    "\n",
    "Batch normalization can help correct problems like this.\n",
    "\n",
    "Add four `BatchNormalization` layers, one before each of the dense layers. (Remember to move the `input_shape` argument to the new first layer.)"
   ]
  },
  {
   "cell_type": "code",
   "execution_count": 9,
   "id": "413196f8",
   "metadata": {
    "execution": {
     "iopub.execute_input": "2023-01-15T15:20:42.330578Z",
     "iopub.status.busy": "2023-01-15T15:20:42.330256Z",
     "iopub.status.idle": "2023-01-15T15:20:42.349230Z",
     "shell.execute_reply": "2023-01-15T15:20:42.348103Z"
    },
    "lines_to_next_cell": 0,
    "papermill": {
     "duration": 0.027987,
     "end_time": "2023-01-15T15:20:42.351866",
     "exception": false,
     "start_time": "2023-01-15T15:20:42.323879",
     "status": "completed"
    },
    "tags": []
   },
   "outputs": [
    {
     "data": {
      "application/javascript": "parent.postMessage({\"jupyterEvent\": \"custom.exercise_interaction\", \"data\": {\"outcomeType\": 1, \"valueTowardsCompletion\": 0.25, \"interactionType\": 1, \"questionType\": 2, \"questionId\": \"3_Q3\", \"learnToolsVersion\": \"0.3.4\", \"failureMessage\": \"\", \"exceptionClass\": \"\", \"trace\": \"\"}}, \"*\")",
      "text/plain": [
       "<IPython.core.display.Javascript object>"
      ]
     },
     "metadata": {},
     "output_type": "display_data"
    },
    {
     "data": {
      "text/markdown": [
       "<span style=\"color:#33cc33\">Correct</span>"
      ],
      "text/plain": [
       "Correct"
      ]
     },
     "metadata": {},
     "output_type": "display_data"
    }
   ],
   "source": [
    "# YOUR CODE HERE: Add a BatchNormalization layer before each Dense layer\n",
    "model = keras.Sequential([\n",
    "    layers.BatchNormalization(),\n",
    "    layers.Dense(512, activation='relu', input_shape=input_shape),\n",
    "    layers.BatchNormalization(),\n",
    "    layers.Dense(512, activation='relu'),\n",
    "    layers.BatchNormalization(),\n",
    "    layers.Dense(512, activation='relu'),\n",
    "    layers.BatchNormalization(),\n",
    "    layers.Dense(1),\n",
    "])\n",
    "\n",
    "# Check your answer\n",
    "q_3.check()"
   ]
  },
  {
   "cell_type": "code",
   "execution_count": 10,
   "id": "57cfd3da",
   "metadata": {
    "execution": {
     "iopub.execute_input": "2023-01-15T15:20:42.364417Z",
     "iopub.status.busy": "2023-01-15T15:20:42.364151Z",
     "iopub.status.idle": "2023-01-15T15:20:42.367920Z",
     "shell.execute_reply": "2023-01-15T15:20:42.366898Z"
    },
    "papermill": {
     "duration": 0.012484,
     "end_time": "2023-01-15T15:20:42.370156",
     "exception": false,
     "start_time": "2023-01-15T15:20:42.357672",
     "status": "completed"
    },
    "tags": []
   },
   "outputs": [],
   "source": [
    "# Lines below will give you a hint or solution code\n",
    "#q_3.hint()\n",
    "#q_3.solution()"
   ]
  },
  {
   "cell_type": "markdown",
   "id": "30893363",
   "metadata": {
    "papermill": {
     "duration": 0.005298,
     "end_time": "2023-01-15T15:20:42.380891",
     "exception": false,
     "start_time": "2023-01-15T15:20:42.375593",
     "status": "completed"
    },
    "tags": []
   },
   "source": [
    "Run the next cell to see if batch normalization will let us train the model."
   ]
  },
  {
   "cell_type": "code",
   "execution_count": 11,
   "id": "7a597898",
   "metadata": {
    "execution": {
     "iopub.execute_input": "2023-01-15T15:20:42.393030Z",
     "iopub.status.busy": "2023-01-15T15:20:42.392770Z",
     "iopub.status.idle": "2023-01-15T15:20:50.458558Z",
     "shell.execute_reply": "2023-01-15T15:20:50.457494Z"
    },
    "papermill": {
     "duration": 8.074538,
     "end_time": "2023-01-15T15:20:50.460924",
     "exception": false,
     "start_time": "2023-01-15T15:20:42.386386",
     "status": "completed"
    },
    "tags": []
   },
   "outputs": [
    {
     "name": "stdout",
     "output_type": "stream",
     "text": [
      "Minimum Validation Loss: 3.8639\n"
     ]
    },
    {
     "data": {
      "image/png": "[encoded data removed]",
      "text/plain": [
       "<Figure size 432x288 with 1 Axes>"
      ]
     },
     "metadata": {},
     "output_type": "display_data"
    }
   ],
   "source": [
    "model.compile(\n",
    "    optimizer='sgd',\n",
    "    loss='mae',\n",
    "    metrics=['mae'],\n",
    ")\n",
    "EPOCHS = 100\n",
    "history = model.fit(\n",
    "    X_train, y_train,\n",
    "    validation_data=(X_valid, y_valid),\n",
    "    batch_size=64,\n",
    "    epochs=EPOCHS,\n",
    "    verbose=0,\n",
    ")\n",
    "\n",
    "history_df = pd.DataFrame(history.history)\n",
    "history_df.loc[0:, ['loss', 'val_loss']].plot()\n",
    "print((\"Minimum Validation Loss: {:0.4f}\").format(history_df['val_loss'].min()))"
   ]
  },
  {
   "cell_type": "markdown",
   "id": "e249c818",
   "metadata": {
    "papermill": {
     "duration": 0.006201,
     "end_time": "2023-01-15T15:20:50.473777",
     "exception": false,
     "start_time": "2023-01-15T15:20:50.467576",
     "status": "completed"
    },
    "tags": []
   },
   "source": [
    "# 4) Evaluate Batch Normalization\n",
    "\n",
    "Did adding batch normalization help?"
   ]
  },
  {
   "cell_type": "code",
   "execution_count": 12,
   "id": "fa70f9f1",
   "metadata": {
    "execution": {
     "iopub.execute_input": "2023-01-15T15:20:50.489370Z",
     "iopub.status.busy": "2023-01-15T15:20:50.487637Z",
     "iopub.status.idle": "2023-01-15T15:20:50.497890Z",
     "shell.execute_reply": "2023-01-15T15:20:50.496791Z"
    },
    "lines_to_next_cell": 0,
    "papermill": {
     "duration": 0.020127,
     "end_time": "2023-01-15T15:20:50.500168",
     "exception": false,
     "start_time": "2023-01-15T15:20:50.480041",
     "status": "completed"
    },
    "tags": []
   },
   "outputs": [
    {
     "data": {
      "application/javascript": "parent.postMessage({\"jupyterEvent\": \"custom.exercise_interaction\", \"data\": {\"outcomeType\": 1, \"valueTowardsCompletion\": 0.25, \"interactionType\": 1, \"questionType\": 4, \"questionId\": \"4_Q4\", \"learnToolsVersion\": \"0.3.4\", \"failureMessage\": \"\", \"exceptionClass\": \"\", \"trace\": \"\"}}, \"*\")",
      "text/plain": [
       "<IPython.core.display.Javascript object>"
      ]
     },
     "metadata": {},
     "output_type": "display_data"
    },
    {
     "data": {
      "text/markdown": [
       "<span style=\"color:#33cc33\">Correct:</span> \n",
       "\n",
       "\n",
       "You can see that adding batch normalization was a big improvement on the first attempt! By adaptively scaling the data as it passes through the network, batch normalization can let you train models on difficult datasets.\n"
      ],
      "text/plain": [
       "Correct: \n",
       "\n",
       "\n",
       "You can see that adding batch normalization was a big improvement on the first attempt! By adaptively scaling the data as it passes through the network, batch normalization can let you train models on difficult datasets."
      ]
     },
     "metadata": {},
     "output_type": "display_data"
    }
   ],
   "source": [
    "# View the solution (Run this cell to receive credit!)\n",
    "q_4.check()"
   ]
  }
 ],
 "metadata": {
  "kernelspec": {
   "display_name": "base",
   "language": "python",
   "name": "python3"
  },
  "language_info": {
   "codemirror_mode": {
    "name": "ipython",
    "version": 3
   },
   "file_extension": ".py",
   "mimetype": "text/x-python",
   "name": "python",
   "nbconvert_exporter": "python",
   "pygments_lexer": "ipython3",
   "version": "3.9.7 (default, Sep 16 2021, 16:59:28) [MSC v.1916 64 bit (AMD64)]"
  },
  "papermill": {
   "default_parameters": {},
   "duration": 41.262217,
   "end_time": "2023-01-15T15:20:53.849671",
   "environment_variables": {},
   "exception": null,
   "input_path": "__notebook__.ipynb",
   "output_path": "__notebook__.ipynb",
   "parameters": {},
   "start_time": "2023-01-15T15:20:12.587454",
   "version": "2.3.4"
  },
  "vscode": {
   "interpreter": {
    "hash": "dc07d24e2f18896857f0b2a651fe84ba40ce7b297e58d8804a308c8039f752a6"
   }
  }
 },
 "nbformat": 4,
 "nbformat_minor": 5
}
